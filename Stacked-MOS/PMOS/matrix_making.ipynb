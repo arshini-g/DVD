{
 "cells": [
  {
   "cell_type": "code",
   "execution_count": 1,
   "metadata": {},
   "outputs": [],
   "source": [
    "import subprocess\n",
    "import os\n",
    "\n",
    "netlist_template = \"\"\"\n",
    "\n",
    "*CONDUCTION NMOS W1\n",
    "\n",
    ".INCLUDE ../../model/32nm_HP.pm\n",
    ".OPTIONS GMIN=1e-020 ABSTOL=1e-18\n",
    "\n",
    "*Definizione dei parametri\n",
    ".PARAM Lmin=22n\n",
    ".PARAM Wmin=22n\n",
    ".PARAM Ldiff=44n\n",
    "\n",
    ".TEMP 85\n",
    "\n",
    ".PARAM N=1\n",
    "\n",
    "*Descrizione della prima cella NMOS\n",
    "Mp1 drain gate1 source_inter body1 pmos W={{Wmin*N}} L={{Lmin}} AS={{Wmin*N*Ldiff}} AD={{Wmin*N*Ldiff}} PS={{2*(Ldiff+Wmin*N)}} PD={{2*(Ldiff+Wmin*N)}}\n",
    "\n",
    "*Descrizione della seconda cella NMOS in series\n",
    "Mp2 drain_inter gate2 source body2 pmos W={{Wmin*N}} L={{Lmin}} AS={{Wmin*N*Ldiff}} AD={{Wmin*N*Ldiff}} PS={{2*(Ldiff+Wmin*N)}} PD={{2*(Ldiff+Wmin*N)}}\n",
    "\n",
    "Vd \tdrain\t0\t\t0\n",
    "Vg1 \tgate1\t{inp1}\t\t0\n",
    "Vg2 \tgate2\t{inp2}\t\t0\n",
    "Vs \tsource\t{source_v}\t\t0\n",
    "Vb1\t\tbody1\talim\t\t0\n",
    "Vb2 \tbody2\talim\t\t0\n",
    "Vdd \talim\t0\t\t1.0\n",
    "vO source_inter drain_inter 0\n",
    "\n",
    "\n",
    ".CONTROL\n",
    "dc TEMP 85 86 10\n",
    "print V(drain_inter) \n",
    "\n",
    ".ENDC\n",
    ".END\n",
    "\n",
    "\n",
    "\"\"\"\n",
    "\n",
    "inp1s = [0, 'alim', 'alim', 0]\n",
    "inp2s = [0, 'alim', 0, 'alim']\n",
    "\n",
    "output_dir = \"diff_inputs\"\n",
    "\n",
    "# make the directory if it doesn't exist\n",
    "os.makedirs(output_dir, exist_ok=True)\n",
    "\n",
    "outs = []\n",
    "for inp1, inp2 in zip(inp1s, inp2s):\n",
    "    netlist_content = netlist_template.format(source_v='alim', inp1=inp1, inp2=inp2)\n",
    "    \n",
    "    filename = f\"{output_dir}/pmos_{inp1},{inp2}.net\"\n",
    "    \n",
    "    with open(filename, 'w') as file:\n",
    "        file.write(netlist_content)\n",
    "    \n",
    "    p = subprocess.run([\"ngspice\", filename] , encoding='utf-8', \n",
    "stdout=subprocess.PIPE)\n",
    "    windstr = p.stdout\n",
    "    outs.append(windstr)"
   ]
  },
  {
   "cell_type": "code",
   "execution_count": 2,
   "metadata": {},
   "outputs": [
    {
     "name": "stdout",
     "output_type": "stream",
     "text": [
      "['v(drain_inter) = 5.126065e-01', 'v(drain_inter) = 5.339468e-01', 'v(drain_inter) = 5.649137e-01', 'v(drain_inter) = 4.773071e-01']\n"
     ]
    }
   ],
   "source": [
    "\n",
    "# make a matrix out of every 10-18 lines\n",
    "matrix = []\n",
    "for o in outs:\n",
    "    lines = o.split('\\n')\n",
    "    matrix.append(lines[10])\n",
    "    \n",
    "print(matrix)"
   ]
  },
  {
   "cell_type": "code",
   "execution_count": 3,
   "metadata": {},
   "outputs": [],
   "source": [
    "inp1s = [0, 1, 1, 0]\n",
    "inp2s = [0, 1, 0, 1]\n",
    "\n",
    "filename = f\"outputs.csv\"\n",
    "with open(filename, 'w') as file:\n",
    "    file.write(\"inp1,inp2,V(Internal node)\\n\")\n",
    "    for i, line in enumerate(matrix):\n",
    "        file.write(f\"{inp1s[i]},{inp2s[i]},{line.split(' ')[-1]}\\n\")"
   ]
  }
 ],
 "metadata": {
  "kernelspec": {
   "display_name": "base",
   "language": "python",
   "name": "python3"
  },
  "language_info": {
   "codemirror_mode": {
    "name": "ipython",
    "version": 3
   },
   "file_extension": ".py",
   "mimetype": "text/x-python",
   "name": "python",
   "nbconvert_exporter": "python",
   "pygments_lexer": "ipython3",
   "version": "3.9.12"
  }
 },
 "nbformat": 4,
 "nbformat_minor": 2
}
