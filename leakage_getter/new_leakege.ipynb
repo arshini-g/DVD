{
 "cells": [
  {
   "cell_type": "code",
   "execution_count": 2,
   "metadata": {},
   "outputs": [],
   "source": [
    "import numpy as np\n",
    "import os"
   ]
  },
  {
   "cell_type": "code",
   "execution_count": 4,
   "metadata": {},
   "outputs": [],
   "source": [
    "import subprocess\n",
    "import os\n",
    "\n",
    "netlist_template = \"\"\"\n",
    "*Leakage current/power in NAND2 cell\n",
    "*.INCLUDE ../model/45nm_MGK.pm\n",
    ".INCLUDE ../model/32nm_MGK.pm\n",
    "*.INCLUDE ../model/22nm_MGK.pm\n",
    "\n",
    "\n",
    ".PARAM Lmin=22n\n",
    ".PARAM Wmin=22n\n",
    ".PARAM XX=1\n",
    ".PARAM tr=50p\n",
    "\n",
    "Mp1\tnode4\tnodea\tnode1\tnode1\tpmos\tW={{2*XX*Wmin}}\tL={{Lmin}}\n",
    "Mp2\tnodeZ\tnodeb\tnode1\tnode1\tpmos\tW={{2*XX*Wmin}}\tL={{Lmin}}\n",
    "\n",
    "Mn1\tnodeZ\tnodeb\t0\t0\tnmos\tW={{2*XX*Wmin}}\tL={{Lmin}}\n",
    "Mn2\tnodeZ\tnodea\t0\t0\tnmos\tW={{2*XX*Wmin}}\tL={{Lmin}}\n",
    "\n",
    "Vdd \tnode1 \t0 \t1\n",
    "\n",
    "Vina nodea 0 0\n",
    "Vinb nodeb 0 0\n",
    "\n",
    "*Definition of type of analysis\n",
    ".CONTROL\n",
    "foreach Vddbasic 1.0\n",
    "*let Vddbasic = 1\n",
    "echo _|_|_|_|_|_|_|_|_|_|_|_|_|_|_|_|_|_|_|_|_|_|_|_\n",
    "echo _|_|_|_|_|_|_|_|_|_|_|_|_|_|_|_|_|_|_|_|_|_|_|_\n",
    "echo Vdd basic = $Vddbasic\n",
    "alter Vdd = $Vddbasic\n",
    "foreach width 22n\n",
    "    echo\n",
    "\techo _|_|_|_|_|_|_|_|_|_|_|_|_|_|_|_|_|_|_|_|_|_|_|_\n",
    "\techo\n",
    "\techo WMIN=$width\n",
    "\techo\n",
    "\n",
    "\t    foreach input 0 $Vddbasic\n",
    " \t    \talter Vina = $input\n",
    " \t    \t\tforeach input 0 $Vddbasic\n",
    "\t\t\t\talter Vinb = $input\n",
    "\t\t\t                    echo DC Analysis at 85C\n",
    "\t\t                        \tdc TEMP 85 86 10\n",
    "\t\t\t                    \t\tprint V(nodea) V(nodeb) V(nodeZ) I(Vdd) I(Vina) I(Vinb)\n",
    "\n",
    "\n",
    "\n",
    "\n",
    "\t        \tend\n",
    "\t    end\n",
    "end\n",
    "end\n",
    ".ENDC\n",
    ".END\n",
    "\n",
    "\"\"\"\n",
    "\n",
    "\n",
    "netlist_content = netlist_template.format()\n",
    "\n",
    "\n",
    "filename = f\"./nand_print.net\"\n",
    "\n",
    "with open(filename, 'w') as file:\n",
    "    file.write(netlist_content)\n",
    "\n"
   ]
  },
  {
   "cell_type": "code",
   "execution_count": 5,
   "metadata": {},
   "outputs": [
    {
     "name": "stderr",
     "output_type": "stream",
     "text": [
      "Error: Vddbasic: no such variable.\n"
     ]
    }
   ],
   "source": [
    "p = subprocess.run([\"ngspice\", filename] , encoding='utf-8', \n",
    "stdout=subprocess.PIPE)"
   ]
  },
  {
   "cell_type": "code",
   "execution_count": null,
   "metadata": {},
   "outputs": [],
   "source": []
  }
 ],
 "metadata": {
  "kernelspec": {
   "display_name": "base",
   "language": "python",
   "name": "python3"
  },
  "language_info": {
   "codemirror_mode": {
    "name": "ipython",
    "version": 3
   },
   "file_extension": ".py",
   "mimetype": "text/x-python",
   "name": "python",
   "nbconvert_exporter": "python",
   "pygments_lexer": "ipython3",
   "version": "3.9.12"
  }
 },
 "nbformat": 4,
 "nbformat_minor": 2
}
